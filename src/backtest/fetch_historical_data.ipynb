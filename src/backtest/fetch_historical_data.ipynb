{
 "cells": [
  {
   "cell_type": "markdown",
   "id": "a966ff74",
   "metadata": {},
   "source": [
    "# Fetch historical candlestick data"
   ]
  },
  {
   "cell_type": "markdown",
   "id": "74d020d9",
   "metadata": {},
   "source": [
    "## Dependencies initialization"
   ]
  },
  {
   "cell_type": "code",
   "execution_count": 1,
   "id": "b22f0993",
   "metadata": {},
   "outputs": [],
   "source": [
    "from datetime import datetime, timezone\n",
    "import os\n",
    "\n",
    "from dotenv import load_dotenv\n",
    "from gate_api import Configuration, ApiClient, FuturesApi\n",
    "from gate_api.models.futures_candlestick import FuturesCandlestick\n",
    "import pandas as pd\n",
    "\n",
    "# Load environment variables from .env file\n",
    "load_dotenv()\n",
    "\n",
    "GATE_URL_HOST_LIVE = os.getenv(\"GATE_URL_HOST_LIVE\")\n",
    "\n",
    "SYMBOL_LIST = os.getenv(\"SYMBOL_LIST\").split(\",\")\n",
    "\n",
    "# Dependencies initialization\n",
    "gate_configuration = Configuration(\n",
    "    host=GATE_URL_HOST_LIVE,\n",
    ")\n",
    "gate_client = ApiClient(configuration=gate_configuration)\n",
    "gate_futures_api = FuturesApi(api_client=gate_client)"
   ]
  },
  {
   "cell_type": "markdown",
   "id": "b05f89b3",
   "metadata": {},
   "source": [
    "## Methods to fetch and save historical data"
   ]
  },
  {
   "cell_type": "code",
   "execution_count": 2,
   "id": "1dfb0203",
   "metadata": {},
   "outputs": [],
   "source": [
    "def fetch_futures_candlesticks(\n",
    "    symbol: str, timeframe: str, start_time: datetime, end_time: datetime\n",
    ") -> list[FuturesCandlestick]:\n",
    "    \"\"\"\n",
    "    Fetches up to 2000 candlesticks per request and concatenates results until the end_time is reached.\n",
    "    On each loop, updates end_time to the timestamp of the first returned candle minus one interval.\n",
    "    \"\"\"\n",
    "    result = []\n",
    "    end_time = int(end_time.timestamp())\n",
    "    interval_map = {\n",
    "        \"1s\": 1,\n",
    "        \"5s\": 5,\n",
    "        \"15s\": 15,\n",
    "        \"30s\": 30,\n",
    "        \"1m\": 60,\n",
    "        \"5m\": 300,\n",
    "        \"15m\": 900,\n",
    "        \"30m\": 1800,\n",
    "        \"1h\": 3600,\n",
    "        \"4h\": 14400,\n",
    "        \"8h\": 28800,\n",
    "        \"1d\": 86400,\n",
    "    }\n",
    "    interval_seconds = interval_map.get(timeframe)\n",
    "\n",
    "    while True:\n",
    "        candles = gate_futures_api.list_futures_candlesticks(\n",
    "            settle=\"usdt\",\n",
    "            contract=symbol,\n",
    "            interval=timeframe,\n",
    "            _from=int(start_time.timestamp()),\n",
    "            to=end_time,\n",
    "        )\n",
    "        if not candles:\n",
    "            break\n",
    "        result = candles + result\n",
    "        # If less than 2000 returned, we're done\n",
    "        if len(candles) < 2000:\n",
    "            break\n",
    "        # Update end_time to the first candle's timestamp minus one interval\n",
    "        first_ts = int(candles[0].t)\n",
    "        end_time = first_ts - interval_seconds\n",
    "    return result\n",
    "\n",
    "\n",
    "def candlesticks_to_dataframe(candle_list: list[FuturesCandlestick]) -> pd.DataFrame:\n",
    "    data = [\n",
    "        {\n",
    "            \"t\": int(candle.t),\n",
    "            \"o\": candle.o,\n",
    "            \"h\": candle.h,\n",
    "            \"l\": candle.l,\n",
    "            \"c\": candle.c,\n",
    "            \"v\": candle.v,\n",
    "        }\n",
    "        for candle in candle_list\n",
    "    ]\n",
    "    return pd.DataFrame(data)\n",
    "\n",
    "def save_candlesticks_to_csv(\n",
    "    candle_dataframe: pd.DataFrame, symbol: str, timeframe: str\n",
    "):\n",
    "    filename = f\"{symbol}_{timeframe}_candlesticks.csv\"\n",
    "    candle_dataframe.to_csv(filename, index=False)\n",
    "    print(f\"Saved {len(candle_dataframe)} candles to {filename}\")"
   ]
  },
  {
   "cell_type": "markdown",
   "id": "3736859a",
   "metadata": {},
   "source": [
    "## Download historical candlestick data\n",
    "\n",
    "This part would be used to calculation of ATR and Renko bricks."
   ]
  },
  {
   "cell_type": "code",
   "execution_count": 3,
   "id": "754fe29d",
   "metadata": {},
   "outputs": [
    {
     "name": "stdout",
     "output_type": "stream",
     "text": [
      "Saved 2209 candles to BTC_USDT_1h_candlesticks.csv\n",
      "Saved 2209 candles to ETH_USDT_1h_candlesticks.csv\n",
      "Saved 2209 candles to XRP_USDT_1h_candlesticks.csv\n",
      "Saved 2209 candles to SOL_USDT_1h_candlesticks.csv\n",
      "Saved 2209 candles to DOGE_USDT_1h_candlesticks.csv\n"
     ]
    }
   ],
   "source": [
    "for symbol in SYMBOL_LIST:\n",
    "    candle_list = fetch_futures_candlesticks(\n",
    "        symbol=symbol,\n",
    "        timeframe=\"1h\",\n",
    "        start_time=datetime(2024, 10, 1, 0, 0, 0, tzinfo=timezone.utc),\n",
    "        end_time=datetime(2025, 1, 1, 0, 0, 0, tzinfo=timezone.utc)\n",
    "    )\n",
    "    candle_df = candlesticks_to_dataframe(candle_list)\n",
    "    save_candlesticks_to_csv(candle_df, symbol, \"1h\")"
   ]
  },
  {
   "cell_type": "markdown",
   "id": "63ab5135",
   "metadata": {},
   "source": [
    "This part would be used to simulate the price stream for the backtest."
   ]
  },
  {
   "cell_type": "code",
   "execution_count": 9,
   "id": "89b04839",
   "metadata": {},
   "outputs": [
    {
     "name": "stdout",
     "output_type": "stream",
     "text": [
      "Saved 260640 candles to BTC_USDT_1m_candlesticks.csv\n",
      "Saved 260640 candles to ETH_USDT_1m_candlesticks.csv\n",
      "Saved 260640 candles to XRP_USDT_1m_candlesticks.csv\n",
      "Saved 260640 candles to SOL_USDT_1m_candlesticks.csv\n",
      "Saved 260640 candles to DOGE_USDT_1m_candlesticks.csv\n"
     ]
    }
   ],
   "source": [
    "for symbol in SYMBOL_LIST:\n",
    "    candle_list = fetch_futures_candlesticks(\n",
    "        symbol=symbol,\n",
    "        timeframe=\"1m\",\n",
    "        start_time=datetime(2025, 1, 1, 0, 1, 0, tzinfo=timezone.utc),\n",
    "        end_time=datetime(2025, 7, 1, 0, 0, 0, tzinfo=timezone.utc)\n",
    "    )\n",
    "    candle_df = candlesticks_to_dataframe(candle_list)\n",
    "    save_candlesticks_to_csv(candle_df, symbol, \"1m\")"
   ]
  }
 ],
 "metadata": {
  "kernelspec": {
   "display_name": "trading",
   "language": "python",
   "name": "python3"
  },
  "language_info": {
   "codemirror_mode": {
    "name": "ipython",
    "version": 3
   },
   "file_extension": ".py",
   "mimetype": "text/x-python",
   "name": "python",
   "nbconvert_exporter": "python",
   "pygments_lexer": "ipython3",
   "version": "3.11.8"
  }
 },
 "nbformat": 4,
 "nbformat_minor": 5
}
